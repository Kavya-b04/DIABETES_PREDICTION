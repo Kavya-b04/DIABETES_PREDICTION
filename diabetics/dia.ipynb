{
 "cells": [
  {
   "cell_type": "code",
   "execution_count": 3,
   "id": "415fb8f1-c6cc-4edc-b94f-bf828e70d7db",
   "metadata": {},
   "outputs": [],
   "source": [
    "import numpy as np   \n",
    "import pandas as pd  \n",
    "import pickle\n",
    "from sklearn.ensemble import RandomForestClassifier, VotingClassifier\n",
    "from sklearn.linear_model import LogisticRegression\n",
    "from sklearn.svm import SVC\n",
    "from sklearn.model_selection import train_test_split"
   ]
  },
  {
   "cell_type": "code",
   "execution_count": 5,
   "id": "7306c5f5-33b3-488b-bcb7-afbe723d4316",
   "metadata": {},
   "outputs": [],
   "source": [
    "df = pd.read_csv('dia.csv')  # Read a CSV file by given path\n",
    "df = df.rename(columns={'DiabetesPedigreeFunction':'DPF'})"
   ]
  },
  {
   "cell_type": "code",
   "execution_count": 7,
   "id": "9a5ed21f-60ff-4057-a743-d67a0b1aa34f",
   "metadata": {},
   "outputs": [
    {
     "data": {
      "text/plain": [
       "False"
      ]
     },
     "execution_count": 7,
     "metadata": {},
     "output_type": "execute_result"
    }
   ],
   "source": [
    "df.isnull().values.any()"
   ]
  },
  {
   "cell_type": "code",
   "execution_count": 9,
   "id": "f9611241-2e13-4ece-8ae9-941bf23ccb5d",
   "metadata": {},
   "outputs": [],
   "source": [
    "X = df[['Glucose','BloodPressure','SkinThickness','Insulin','BMI','DPF','Age']]\n",
    "Y = df['Outcome']\n",
    "X_train, X_test, Y_train, Y_test = train_test_split(X,Y,test_size=0.3, random_state=0)"
   ]
  },
  {
   "cell_type": "code",
   "execution_count": 11,
   "id": "59ea9034-748d-44b5-9bf9-e1ff1f2e1931",
   "metadata": {},
   "outputs": [],
   "source": [
    "rf = RandomForestClassifier(n_estimators=200)\n",
    "lr = LogisticRegression()\n",
    "svm = SVC(probability=True)\n",
    "\n",
    "voting_classifier = VotingClassifier(estimators=[('rf', rf), ('lr', lr), ('svm', svm)], voting='soft')"
   ]
  },
  {
   "cell_type": "code",
   "execution_count": 13,
   "id": "b46548cc-286d-4ca7-bde0-8064a7d120fd",
   "metadata": {},
   "outputs": [
    {
     "name": "stdout",
     "output_type": "stream",
     "text": [
      "Accuracy of Voting Classifier: 0.7619047619047619\n"
     ]
    },
    {
     "name": "stderr",
     "output_type": "stream",
     "text": [
      "C:\\Users\\KavyaKanchana\\anaconda3\\Lib\\site-packages\\sklearn\\linear_model\\_logistic.py:469: ConvergenceWarning: lbfgs failed to converge (status=1):\n",
      "STOP: TOTAL NO. of ITERATIONS REACHED LIMIT.\n",
      "\n",
      "Increase the number of iterations (max_iter) or scale the data as shown in:\n",
      "    https://scikit-learn.org/stable/modules/preprocessing.html\n",
      "Please also refer to the documentation for alternative solver options:\n",
      "    https://scikit-learn.org/stable/modules/linear_model.html#logistic-regression\n",
      "  n_iter_i = _check_optimize_result(\n"
     ]
    }
   ],
   "source": [
    "voting_classifier.fit(X_train, Y_train)\n",
    "accuracy = voting_classifier.score(X_test, Y_test)\n",
    "print(\"Accuracy of Voting Classifier:\", accuracy)"
   ]
  },
  {
   "cell_type": "code",
   "execution_count": 17,
   "id": "833150a3-a21b-438f-abe0-551da4a2446e",
   "metadata": {},
   "outputs": [],
   "source": [
    "import os\n",
    "\n",
    "# Create the directory if it does not exist\n",
    "if not os.path.exists('model'):\n",
    "    os.makedirs('model')"
   ]
  },
  {
   "cell_type": "code",
   "execution_count": 19,
   "id": "3996dc23-3232-4c0f-8e5d-74a8fb0786df",
   "metadata": {},
   "outputs": [
    {
     "name": "stdout",
     "output_type": "stream",
     "text": [
      "SUCCESS\n"
     ]
    }
   ],
   "source": [
    "import os\n",
    "import pickle\n",
    "\n",
    "# Create the directory if it does not exist\n",
    "if not os.path.exists('model'):\n",
    "    os.makedirs('model')\n",
    "\n",
    "# Save the voting classifier to a file\n",
    "filename = 'model/voting_diabetes.pkl'\n",
    "try:\n",
    "    with open(filename, 'wb') as file:\n",
    "        pickle.dump(voting_classifier, file)\n",
    "    print(\"SUCCESS\")\n",
    "except Exception as e:\n",
    "    print(f\"An error occurred while saving the model: {e}\")"
   ]
  },
  {
   "cell_type": "code",
   "execution_count": null,
   "id": "124299e6-adc3-4f9a-938e-931b84131e83",
   "metadata": {},
   "outputs": [],
   "source": []
  }
 ],
 "metadata": {
  "kernelspec": {
   "display_name": "Python 3 (ipykernel)",
   "language": "python",
   "name": "python3"
  },
  "language_info": {
   "codemirror_mode": {
    "name": "ipython",
    "version": 3
   },
   "file_extension": ".py",
   "mimetype": "text/x-python",
   "name": "python",
   "nbconvert_exporter": "python",
   "pygments_lexer": "ipython3",
   "version": "3.12.4"
  }
 },
 "nbformat": 4,
 "nbformat_minor": 5
}
